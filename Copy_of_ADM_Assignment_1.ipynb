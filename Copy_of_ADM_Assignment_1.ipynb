{
  "nbformat": 4,
  "nbformat_minor": 0,
  "metadata": {
    "colab": {
      "provenance": [],
      "include_colab_link": true
    },
    "kernelspec": {
      "name": "python3",
      "display_name": "Python 3"
    },
    "language_info": {
      "name": "python"
    }
  },
  "cells": [
    {
      "cell_type": "markdown",
      "metadata": {
        "id": "view-in-github",
        "colab_type": "text"
      },
      "source": [
        "<a href=\"https://colab.research.google.com/github/praneeth-crypto/datamining-b29/blob/main/Copy_of_ADM_Assignment_1.ipynb\" target=\"_parent\"><img src=\"https://colab.research.google.com/assets/colab-badge.svg\" alt=\"Open In Colab\"/></a>"
      ]
    },
    {
      "cell_type": "code",
      "execution_count": null,
      "metadata": {
        "id": "vj8ROAVJTlsI"
      },
      "outputs": [],
      "source": [
        "import pandas as pd\n",
        "import numpy as np\n",
        "from sklearn.preprocessing import MinMaxScaler, StandardScaler"
      ]
    },
    {
      "cell_type": "code",
      "source": [
        "df = pd.read_csv(\"employee_data.csv\")\n",
        "print(\"Original Dataset:\\n\", df.head())"
      ],
      "metadata": {
        "colab": {
          "base_uri": "https://localhost:8080/"
        },
        "id": "b0HVgIIBTpuR",
        "outputId": "762b7b35-dd82-4dd7-8053-5ccd6fcc63ab"
      },
      "execution_count": null,
      "outputs": [
        {
          "output_type": "stream",
          "name": "stdout",
          "text": [
            "Original Dataset:\n",
            "    Employee_ID   Age    Salary  Job_Satisfaction  Work_Hours_Per_Week\n",
            "0         1001  50.0  108953.0               9.0                   36\n",
            "1         1002  36.0   82995.0               8.0                   59\n",
            "2         1003  29.0   70757.0               2.0                   30\n",
            "3         1004  42.0   39692.0               1.0                   30\n",
            "4         1005  40.0   75758.0               7.0                   54\n"
          ]
        }
      ]
    },
    {
      "cell_type": "code",
      "source": [
        "mean_age = df['Age'].mean()\n",
        "median_salary = df['Salary'].median()\n",
        "mode_job_satisfaction = df['Job_Satisfaction'].mode()[0]"
      ],
      "metadata": {
        "id": "TZIMuVTgT4LZ"
      },
      "execution_count": null,
      "outputs": []
    },
    {
      "source": [
        "df['Age'].fillna(mean_age, inplace=True)\n",
        "df['Salary'].fillna(median_salary, inplace=True)\n",
        "df['Job_Satisfaction'].fillna(mode_job_satisfaction, inplace=True)\n",
        "print(\"\\nDataset After Handling Missing Values:\\n\", df.head())"
      ],
      "cell_type": "code",
      "metadata": {
        "colab": {
          "base_uri": "https://localhost:8080/"
        },
        "id": "efIvYOmrU5Hz",
        "outputId": "8ac68cb8-1ec9-4e0a-8876-9978773cc92b"
      },
      "execution_count": null,
      "outputs": [
        {
          "output_type": "stream",
          "name": "stdout",
          "text": [
            "\n",
            "Dataset After Handling Missing Values:\n",
            "    Employee_ID   Age    Salary  Job_Satisfaction  Work_Hours_Per_Week  \\\n",
            "0         1001  50.0  108953.0               9.0                   36   \n",
            "1         1002  36.0   82995.0               8.0                   59   \n",
            "2         1003  29.0   70757.0               2.0                   30   \n",
            "3         1004  42.0   39692.0               1.0                   30   \n",
            "4         1005  40.0   75758.0               7.0                   54   \n",
            "\n",
            "   Age_Scaled  Salary_Scaled  Age_Scaled_Manual  Salary_Scaled_Manual  \\\n",
            "0    0.750000       0.877708           0.750000              0.877708   \n",
            "1    0.361111       0.585375           0.361111              0.585375   \n",
            "2    0.166667       0.447554           0.166667              0.447554   \n",
            "3    0.527778       0.097707           0.527778              0.097707   \n",
            "4    0.472222       0.503874           0.472222              0.503874   \n",
            "\n",
            "   Job_Satisfaction_Standardized  Work_Hours_Per_Week_Standardized  \\\n",
            "0                       1.275854                         -0.905969   \n",
            "1                       0.872103                          1.483629   \n",
            "2                      -1.550405                         -1.529343   \n",
            "3                      -1.954156                         -1.529343   \n",
            "4                       0.468352                          0.964151   \n",
            "\n",
            "   Job_Satisfaction_Standardized_Manual  \\\n",
            "0                              1.263031   \n",
            "1                              0.863338   \n",
            "2                             -1.534823   \n",
            "3                             -1.934516   \n",
            "4                              0.463644   \n",
            "\n",
            "   Work_Hours_Per_Week_Standardized_Manual  \n",
            "0                                -0.896864  \n",
            "1                                 1.468717  \n",
            "2                                -1.513972  \n",
            "3                                -1.513972  \n",
            "4                                 0.954461  \n"
          ]
        },
        {
          "output_type": "stream",
          "name": "stderr",
          "text": [
            "<ipython-input-14-35d7e9a42662>:1: FutureWarning: A value is trying to be set on a copy of a DataFrame or Series through chained assignment using an inplace method.\n",
            "The behavior will change in pandas 3.0. This inplace method will never work because the intermediate object on which we are setting values always behaves as a copy.\n",
            "\n",
            "For example, when doing 'df[col].method(value, inplace=True)', try using 'df.method({col: value}, inplace=True)' or df[col] = df[col].method(value) instead, to perform the operation inplace on the original object.\n",
            "\n",
            "\n",
            "  df['Age'].fillna(mean_age, inplace=True)\n",
            "<ipython-input-14-35d7e9a42662>:2: FutureWarning: A value is trying to be set on a copy of a DataFrame or Series through chained assignment using an inplace method.\n",
            "The behavior will change in pandas 3.0. This inplace method will never work because the intermediate object on which we are setting values always behaves as a copy.\n",
            "\n",
            "For example, when doing 'df[col].method(value, inplace=True)', try using 'df.method({col: value}, inplace=True)' or df[col] = df[col].method(value) instead, to perform the operation inplace on the original object.\n",
            "\n",
            "\n",
            "  df['Salary'].fillna(median_salary, inplace=True)\n",
            "<ipython-input-14-35d7e9a42662>:3: FutureWarning: A value is trying to be set on a copy of a DataFrame or Series through chained assignment using an inplace method.\n",
            "The behavior will change in pandas 3.0. This inplace method will never work because the intermediate object on which we are setting values always behaves as a copy.\n",
            "\n",
            "For example, when doing 'df[col].method(value, inplace=True)', try using 'df.method({col: value}, inplace=True)' or df[col] = df[col].method(value) instead, to perform the operation inplace on the original object.\n",
            "\n",
            "\n",
            "  df['Job_Satisfaction'].fillna(mode_job_satisfaction, inplace=True)\n"
          ]
        }
      ]
    },
    {
      "cell_type": "code",
      "source": [
        "scaler = MinMaxScaler()\n",
        "df[['Age_Scaled', 'Salary_Scaled']] = scaler.fit_transform(df[['Age', 'Salary']])"
      ],
      "metadata": {
        "id": "kF-ubboTUDNl"
      },
      "execution_count": null,
      "outputs": []
    },
    {
      "cell_type": "code",
      "source": [
        "df['Age_Scaled_Manual'] = (df['Age'] - df['Age'].min()) / (df['Age'].max() - df['Age'].min())\n",
        "df['Salary_Scaled_Manual'] = (df['Salary'] - df['Salary'].min()) / (df['Salary'].max() - df['Salary'].min())"
      ],
      "metadata": {
        "id": "LK9G2lZFUL_o"
      },
      "execution_count": null,
      "outputs": []
    },
    {
      "cell_type": "code",
      "source": [
        "standard_scaler = StandardScaler()\n",
        "df[['Job_Satisfaction_Standardized', 'Work_Hours_Per_Week_Standardized']] = standard_scaler.fit_transform(df[['Job_Satisfaction', 'Work_Hours_Per_Week']])"
      ],
      "metadata": {
        "id": "etpMBrHfURGV"
      },
      "execution_count": null,
      "outputs": []
    },
    {
      "cell_type": "code",
      "source": [
        "df['Job_Satisfaction_Standardized_Manual'] = (df['Job_Satisfaction'] - df['Job_Satisfaction'].mean()) / df['Job_Satisfaction'].std()\n",
        "df['Work_Hours_Per_Week_Standardized_Manual'] = (df['Work_Hours_Per_Week'] - df['Work_Hours_Per_Week'].mean()) / df['Work_Hours_Per_Week'].std()\n",
        "print(\"\\nDataset After Preprocessing:\\n\", df.head())"
      ],
      "metadata": {
        "colab": {
          "base_uri": "https://localhost:8080/"
        },
        "id": "rThz8DZ5UWVZ",
        "outputId": "d1e59e7e-3866-4179-bd26-25416685f9b7"
      },
      "execution_count": null,
      "outputs": [
        {
          "output_type": "stream",
          "name": "stdout",
          "text": [
            "\n",
            "Dataset After Preprocessing:\n",
            "    Employee_ID   Age    Salary  Job_Satisfaction  Work_Hours_Per_Week  \\\n",
            "0         1001  50.0  108953.0               9.0                   36   \n",
            "1         1002  36.0   82995.0               8.0                   59   \n",
            "2         1003  29.0   70757.0               2.0                   30   \n",
            "3         1004  42.0   39692.0               1.0                   30   \n",
            "4         1005  40.0   75758.0               7.0                   54   \n",
            "\n",
            "   Age_Scaled  Salary_Scaled  Age_Scaled_Manual  Salary_Scaled_Manual  \\\n",
            "0    0.750000       0.877708           0.750000              0.877708   \n",
            "1    0.361111       0.585375           0.361111              0.585375   \n",
            "2    0.166667       0.447554           0.166667              0.447554   \n",
            "3    0.527778       0.097707           0.527778              0.097707   \n",
            "4    0.472222       0.503874           0.472222              0.503874   \n",
            "\n",
            "   Job_Satisfaction_Standardized  Work_Hours_Per_Week_Standardized  \\\n",
            "0                       1.275854                         -0.905969   \n",
            "1                       0.872103                          1.483629   \n",
            "2                      -1.550405                         -1.529343   \n",
            "3                      -1.954156                         -1.529343   \n",
            "4                       0.468352                          0.964151   \n",
            "\n",
            "   Job_Satisfaction_Standardized_Manual  \\\n",
            "0                              1.263031   \n",
            "1                              0.863338   \n",
            "2                             -1.534823   \n",
            "3                             -1.934516   \n",
            "4                              0.463644   \n",
            "\n",
            "   Work_Hours_Per_Week_Standardized_Manual  \n",
            "0                                -0.896864  \n",
            "1                                 1.468717  \n",
            "2                                -1.513972  \n",
            "3                                -1.513972  \n",
            "4                                 0.954461  \n"
          ]
        }
      ]
    },
    {
      "cell_type": "code",
      "source": [
        "df.to_csv(\"processed_employee_data.csv\", index=False)\n",
        "print(\"\\nProcessed dataset saved as 'processed_employee_data.csv'\")"
      ],
      "metadata": {
        "colab": {
          "base_uri": "https://localhost:8080/"
        },
        "id": "qhtgoFUkUZKY",
        "outputId": "0d597537-dcef-4aa3-d3ac-40caee9ce436"
      },
      "execution_count": null,
      "outputs": [
        {
          "output_type": "stream",
          "name": "stdout",
          "text": [
            "\n",
            "Processed dataset saved as 'processed_employee_data.csv'\n"
          ]
        }
      ]
    }
  ]
}